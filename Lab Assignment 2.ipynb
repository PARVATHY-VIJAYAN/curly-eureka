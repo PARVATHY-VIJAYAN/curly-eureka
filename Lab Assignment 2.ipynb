{
 "cells": [
  {
   "cell_type": "markdown",
   "id": "2b16ec48",
   "metadata": {},
   "source": [
    "<h1>PARVATHY VIJAYAN<br>\n",
    "AM.SC.P2MCA23028</h1>\n",
    "\n",
    "Q1"
   ]
  },
  {
   "cell_type": "code",
   "execution_count": 11,
   "id": "5beea042",
   "metadata": {},
   "outputs": [
    {
     "name": "stdout",
     "output_type": "stream",
     "text": [
      "Enter : iusdhckjhsd.sduigcbjkdc.ajhajks.txt\n"
     ]
    },
    {
     "data": {
      "text/plain": [
       "'txt'"
      ]
     },
     "execution_count": 11,
     "metadata": {},
     "output_type": "execute_result"
    }
   ],
   "source": [
    "file_name = input(\"Enter : \")\n",
    "file_name.split('.')[-1]"
   ]
  },
  {
   "cell_type": "markdown",
   "id": "b39df97f",
   "metadata": {},
   "source": [
    "Q2"
   ]
  },
  {
   "cell_type": "code",
   "execution_count": 23,
   "id": "86db9e0b",
   "metadata": {},
   "outputs": [
    {
     "data": {
      "text/plain": [
       "'nst'"
      ]
     },
     "execution_count": 23,
     "metadata": {},
     "output_type": "execute_result"
    }
   ],
   "source": [
    "str = \"PYthonstring\"\n",
    "l = len(str)//2\n",
    "str[l-1]+str[l]+str[l+1]"
   ]
  },
  {
   "cell_type": "markdown",
   "id": "4899748c",
   "metadata": {},
   "source": [
    "Q3"
   ]
  },
  {
   "cell_type": "code",
   "execution_count": 5,
   "id": "e5d243e0",
   "metadata": {},
   "outputs": [
    {
     "name": "stdout",
     "output_type": "stream",
     "text": [
      "No: of lower case : 8\n",
      "No: of upper case: 7\n",
      "No: of letters : 15\n",
      "No: of Digits : 10\n",
      "No: of Symbols : 3\n"
     ]
    }
   ],
   "source": [
    "str = \"parvathyVIJAYAN:1324567890!#\"\n",
    "lower = 0\n",
    "upper =0\n",
    "digit = 0\n",
    "symbol = 0\n",
    "for i in str:\n",
    "    i=ord(i)\n",
    "    if(i>=95 and i<=122):\n",
    "        lower+=1\n",
    "    elif(i>=65 and i<=90):\n",
    "        upper+=1\n",
    "    elif(i>=48 and i<=57):\n",
    "        digit+=1\n",
    "    else:\n",
    "        symbol+=1\n",
    "print(f\"No: of lower case : {lower}\\nNo: of upper case: {upper}\\nNo: of letters : {lower+upper}\\nNo: of Digits : {digit}\\nNo: of Symbols : {symbol}\")"
   ]
  },
  {
   "cell_type": "markdown",
   "id": "9c54a380",
   "metadata": {},
   "source": [
    "Q4. To find the longest and the smallest word in a string.\n"
   ]
  },
  {
   "cell_type": "code",
   "execution_count": 12,
   "id": "fa943fb4",
   "metadata": {},
   "outputs": [
    {
     "name": "stdout",
     "output_type": "stream",
     "text": [
      "Smallest word:  my\n",
      "Smallest word:  is\n",
      "Longest word:  parvathy\n"
     ]
    }
   ],
   "source": [
    "str =\"my name is parvathy\"\n",
    "splt = str.split()\n",
    "s=len(splt[0])\n",
    "l=len(splt[0])\n",
    "for i in splt:\n",
    "    if len(i)<s:\n",
    "        s= len(i)\n",
    "    if len(i)>l:\n",
    "        l=len(i)\n",
    "for i in splt:\n",
    "    if l==len(i):\n",
    "        print(\"Longest word: \",i)\n",
    "    elif(s==len(i)):\n",
    "        print(\"Smallest word: \",i)"
   ]
  },
  {
   "cell_type": "markdown",
   "id": "443f982f",
   "metadata": {},
   "source": [
    "Q5"
   ]
  },
  {
   "cell_type": "code",
   "execution_count": 13,
   "id": "bbb1c204",
   "metadata": {},
   "outputs": [
    {
     "name": "stdout",
     "output_type": "stream",
     "text": [
      "bob is a palindrome.\n"
     ]
    }
   ],
   "source": [
    "string = \"boB\"\n",
    "string= string.lower()\n",
    "rev= string[::-1]\n",
    "if rev==string:\n",
    "    print(f\"{string} is a palindrome.\")\n",
    "else:\n",
    "    print(f\"{string} is not a palindrome.\")"
   ]
  },
  {
   "cell_type": "markdown",
   "id": "34ec6bff",
   "metadata": {},
   "source": [
    "Q6"
   ]
  },
  {
   "cell_type": "code",
   "execution_count": 14,
   "id": "2dd35a1a",
   "metadata": {},
   "outputs": [
    {
     "name": "stdout",
     "output_type": "stream",
     "text": [
      "Result: oni$n\n"
     ]
    }
   ],
   "source": [
    "string = \"onion\"\n",
    "first_char = string[0]\n",
    "new_string = first_char + string[1:].replace(first_char, '$')\n",
    "print(\"Result:\", new_string)"
   ]
  },
  {
   "cell_type": "markdown",
   "id": "e0131ee4",
   "metadata": {},
   "source": [
    "Q7"
   ]
  },
  {
   "cell_type": "code",
   "execution_count": 15,
   "id": "19546cc1",
   "metadata": {},
   "outputs": [
    {
     "name": "stdout",
     "output_type": "stream",
     "text": [
      "Sample String: sky\n",
      "Expected Result: skying\n",
      "Sample String: being\n",
      "Expected Result: beingly\n",
      "Sample String: in\n",
      "Expected Result: in\n"
     ]
    }
   ],
   "source": [
    "strings = ['sky', 'being', 'in']\n",
    "\n",
    "for string in strings:\n",
    "    if len(string) >= 3:\n",
    "        if string.endswith('ing'):\n",
    "            result = string + 'ly'\n",
    "        else:\n",
    "            result = string + 'ing'\n",
    "    else:\n",
    "        result = string\n",
    "    \n",
    "    print(\"Sample String:\", string)\n",
    "    print(\"Expected Result:\", result)\n"
   ]
  },
  {
   "cell_type": "code",
   "execution_count": null,
   "id": "41826e27",
   "metadata": {},
   "outputs": [],
   "source": []
  }
 ],
 "metadata": {
  "kernelspec": {
   "display_name": "Python 3 (ipykernel)",
   "language": "python",
   "name": "python3"
  },
  "language_info": {
   "codemirror_mode": {
    "name": "ipython",
    "version": 3
   },
   "file_extension": ".py",
   "mimetype": "text/x-python",
   "name": "python",
   "nbconvert_exporter": "python",
   "pygments_lexer": "ipython3",
   "version": "3.9.7"
  }
 },
 "nbformat": 4,
 "nbformat_minor": 5
}
